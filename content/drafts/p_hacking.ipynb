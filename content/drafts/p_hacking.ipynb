{
 "cells": [
  {
   "cell_type": "markdown",
   "metadata": {},
   "source": [
    "# p-hacking\n",
    "\n",
    "The main point of this article will be gaining a greater understanding of what p-values are and why they are (and are not) evil. I specifically want to address the idea that using a p-value < 0.05 was never meant as a way to say something in particular about a specific experiment. According to Neyman and Pearson (see Statistics Done Wrong), the goal was to come up with a process that would guarantee that false positives are kept at, or below a certain threshold. What this means for us is that the normal process of science (using a p < 0.05 for signifigance testing) means that we are fine with a 5% false positive rate, i.e., we are fine with 5% of scientific findings appearing to be true even when they are not."
   ]
  },
  {
   "cell_type": "code",
   "execution_count": 1,
   "metadata": {
    "collapsed": true
   },
   "outputs": [],
   "source": [
    "def factorial(n):\n",
    "    \"\"\"Calculates the factorial of `n`\n",
    "    \"\"\"\n",
    "    vals = list(range(1, n + 1))\n",
    "    if len(vals) <= 0:\n",
    "        return 1\n",
    "\n",
    "    prod = 1\n",
    "    for val in vals:\n",
    "        prod *= val\n",
    "        \n",
    "    return prod\n",
    "    \n",
    "    \n",
    "def n_choose_k(n, k):\n",
    "    \"\"\"Calculates the binomial coefficient\n",
    "    \"\"\"\n",
    "    return factorial(n) / (factorial(k) * factorial(n - k))\n",
    "\n",
    "\n",
    "def binom_prob(n, k, p):\n",
    "    \"\"\"Returns the probability of see `k` heads in `n` coin tosses\n",
    "    \n",
    "    Arguments:\n",
    "    \n",
    "    n - number of trials\n",
    "    k - number of trials in which an event took place\n",
    "    p - probability of an event happening\n",
    "    \n",
    "    \"\"\"\n",
    "    return n_choose_k(n, k) * p**k * (1 - p)**(n - k)"
   ]
  },
  {
   "cell_type": "code",
   "execution_count": 2,
   "metadata": {},
   "outputs": [
    {
     "name": "stdout",
     "output_type": "stream",
     "text": [
      "P-value: 0.8%\n"
     ]
    }
   ],
   "source": [
    "def p_value(n, k, p):\n",
    "    \"\"\"Returns the p-value for the given the given set \n",
    "    \"\"\"\n",
    "    return sum(binom_prob(n, i, p) for i in range(k, n+1))\n",
    "\n",
    "print(\"P-value: %0.1f%%\" % (p_value(30, 22, 0.5) * 100))"
   ]
  },
  {
   "cell_type": "code",
   "execution_count": 3,
   "metadata": {},
   "outputs": [
    {
     "data": {
      "text/plain": [
       "3"
      ]
     },
     "execution_count": 3,
     "metadata": {},
     "output_type": "execute_result"
    }
   ],
   "source": [
    "# This experiment tosses a fair coin 100 times and records the number \n",
    "# of times that we get a false positive (i.e., that we would state that the coin is biased)\n",
    "import random\n",
    "n = 100\n",
    "n_tests = 100\n",
    "s = [sum(random.choice([0,1]) for _ in range(n)) for i in range(n_tests)]\n",
    "sum(p_value(n, k, 0.5) < 0.05 for k in s)"
   ]
  }
 ],
 "metadata": {
  "anaconda-cloud": {},
  "kernelspec": {
   "display_name": "Python 3",
   "language": "python",
   "name": "python3"
  },
  "language_info": {
   "codemirror_mode": {
    "name": "ipython",
    "version": 3
   },
   "file_extension": ".py",
   "mimetype": "text/x-python",
   "name": "python",
   "nbconvert_exporter": "python",
   "pygments_lexer": "ipython3",
   "version": "3.6.5"
  }
 },
 "nbformat": 4,
 "nbformat_minor": 2
}
