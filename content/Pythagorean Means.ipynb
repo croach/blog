{
 "cells": [
  {
   "cell_type": "markdown",
   "metadata": {},
   "source": [
    "# The True Meaning of Mean, or\n",
    "# The Meaning of Average\n",
    "\n",
    "- What do we mean we say \"average\"? Talk about there being no such thing as average, only measures of central tendancy.\n",
    "- Arithmetic Mean\n",
    "  - Show how to derive the arithmetic mean:\n",
    "    - using [simple arithmetic][arithmetic_mean_derivation]\n",
    "    - using [calculus][arithmetic_mean_derivation_calc]\n",
    "    \n",
    "    <img src=\"./images/arithmetic_mean_derivation_calc.png\" width=\"650\">\n",
    "  - Talk about [arithmetic progression][arithmetic_progression] as a way of determining when to use this mean.\n",
    "- Geometric Mean\n",
    "  - [This video][youtube_explanation] discusses the concept that the geometric mean tries to find a number such that the ratio of the smallest to that number equals the ratio of that number to the largest number. For example, the geometric mean of the numbers 4 and 9 is 6, and the ratio of the smallest number to the geomtric mean (4/6) is 2/3, which is equivalent to the ratio of the mean to the largest number (6/9 = 2/3). This is a good place to talk about [geometric progression][geometric_progression].\n",
    "  - [This video][investopeida_explanation] discusses using the geometric when finding the average of ratios, not real values. This seems counterintuitive to the concept that I first learned, which was using the geometric mean to smooth out the huge differences between ranges.\n",
    "  - Definitely mention how both the arithmetic mean and geometric mean finds the number `n` if we are finding the \"average\" of `m` elements of value `n`. So, for example, if we have the values 9, 9, and 9, both the geometric and arithmetic means are the value 9.\n",
    "  - Talk about how the geometric mean can be seen as calculating the area/volume of a geomtric object of `n` dimensions. Show an example of why this means that small changes in numbers with a relatively small range of values can be equal to large changes in variables with a large range of values. In other words, this makes sure that the variables with higher ranges of values do not overpower the smaller ones. Think of the classic scenario of the average income after Bill Gates walks into the room.\n",
    "  - Make sure to prove that the geometric mean is always less than the arithmetic mean.\n",
    "\n",
    "[arithmetic_mean_derivation]: http://heaveninthebackyard.blogspot.com/2012/02/meaning-and-derivation-of-arithmetic.html\n",
    "[arithmetic_mean_derivation_calc]: https://math.stackexchange.com/questions/138589/intuition-and-derivation-of-the-geometric-mean\n",
    "[arithmetic_progression]: https://en.wikipedia.org/wiki/Arithmetic_progression\n",
    "[youtube_explanation]: https://youtu.be/_UdGUULKN-E\n",
    "[investopeida_explanation]: https://www.investopedia.com/articles/investing/071113/breaking-down-geometric-mean.asp\n",
    "[geometric_progression]: https://en.wikipedia.org/wiki/Geometric_progression"
   ]
  },
  {
   "cell_type": "code",
   "execution_count": 1,
   "metadata": {},
   "outputs": [],
   "source": [
    "import numpy as np\n",
    "from functools import reduce\n",
    "\n",
    "def prod(vals):\n",
    "    return reduce(lambda a, b: a * b, vals)\n",
    "    \n",
    "arithmetic_mean = np.mean\n",
    "\n",
    "def geometric_mean(vals):\n",
    "    return prod(vals) ** (1/len(vals))"
   ]
  },
  {
   "cell_type": "code",
   "execution_count": 46,
   "metadata": {},
   "outputs": [
    {
     "data": {
      "text/plain": [
       "(287400.0, 5000239500.0, 1206745.8442149975)"
      ]
     },
     "execution_count": 46,
     "metadata": {},
     "output_type": "execute_result"
    }
   ],
   "source": [
    "net_worths = [500_000, 250_000, 50_000, 27_000, 610_000]\n",
    "arithmetic_mean(net_worths), arithmetic_mean(net_worths + [30_000_000_000]), geometric_mean(net_worths + [30_000_000_000])"
   ]
  },
  {
   "cell_type": "code",
   "execution_count": 47,
   "metadata": {},
   "outputs": [
    {
     "data": {
      "text/plain": [
       "30000000000.0"
      ]
     },
     "execution_count": 47,
     "metadata": {},
     "output_type": "execute_result"
    }
   ],
   "source": [
    "geometric_mean([30_000_000_000, 30_000_000_000])"
   ]
  },
  {
   "cell_type": "code",
   "execution_count": 45,
   "metadata": {},
   "outputs": [
    {
     "data": {
      "text/plain": [
       "2.8844991406148166"
      ]
     },
     "execution_count": 45,
     "metadata": {},
     "output_type": "execute_result"
    }
   ],
   "source": [
    "geometric_mean([2, 3, 4])"
   ]
  },
  {
   "cell_type": "code",
   "execution_count": null,
   "metadata": {},
   "outputs": [],
   "source": []
  },
  {
   "cell_type": "code",
   "execution_count": null,
   "metadata": {},
   "outputs": [],
   "source": []
  },
  {
   "cell_type": "markdown",
   "metadata": {},
   "source": [
    "# The Geometric Mean\n",
    "\n",
    "If you're like me, you probably learned math by memorizing a large set of instructions and how to apply to them daily tasks such as balancing a checkbook, or calculating the time it takes a train traveling at 65mph and carrying 500 passengers, each at an average weight of 150lbs, to come to a complete stop. Though, I'm not entirely sure that last question is something I need to calculate on a daily basis, the fact remains that I was nothing more than a simple computer when it comes to math. I memorized the rules and applied them to scenarios that I recognized with little to no real understanding or intuition. For me, math was a given. It was a fundamental truth of the universe and not something that was up for debate. It was stalwart and unchanging and could not be questioned or truly understood, only memorized and utilized. And, so this image I had of math continued on until at some point in my graduate studies I took my first Calculus course.\n",
    "\n",
    "Unlike the earlier math I had learned in my primary education, which was rigid and immutable, Calculus was soft, malleable, and messy. It was full of fuzzy concepts and paradoxes, and just like the computer itself, was a tool created my humankind to solve a problem. Specifically, it was a branch of mathematics that made it possible to deal with continuity, and unlike the fact that 2 + 2 = 4, this style of mathematics was an approximation. It was a model of how our world worked, and it inherently was not perfect, but it was beautiful. Unlike the earlier math I had learned, Calculus challenged me, it made me see the whole of mathematics differently, and it made me question even the things that I dogmatically took for granted as unflinchingly true. Things, like the average.\n",
    "\n",
    "The average, or to be more precise, the arithmetic mean, is an invention of humankind, and not some scientific discovery of the fundamental inner workings of our world that I originally believed it to be. You see, for me, and for many people, the idea that something related to numbers could be anything other than an absolute truth, is just not a concept with which I was ever acquainted. And, so the thought that an average could be anything other than some fundamental characteristic of a group of values, and therefore something unchanging  \n",
    "\n",
    "## Central Tendency, the Median, and the Pythagorean Means\n",
    "\n",
    "In this section, I want to discuss the concept of central tendency and how the arithmetic mean, just like the median, is just one measure of it. The idea here being that I want people to see that there's an art and a science to picking the appropriate representation of a group's central tendency and that no one value is perfect for all uses. With that in mind, I can introduce the Pythagorean means. \n",
    "\n",
    "## Intuitive Views of the Geometric Mean\n",
    "\n",
    "As the area divided into equal sized 2-D, 3-D, nth-D volumes. \n",
    "\n",
    "As a log-transformation of the underlying values to \"normalize\" the values before calculating the central tendency.\n",
    "\n",
    "## When to use the Geometric Mean\n",
    "\n",
    "Here I want to discuss the idea of a geometric progression and explain why the geometric mean fits for values of this nature.\n",
    "\n",
    "Give examples of real world uses of the geometric mean. For example, compounding interest, finding averages of groups with very high and low values (I.e., that follow an exponential, or geometric, scale), etc.\n",
    "\n",
    "It would be interesting here to show a simple EDA example where I take a sample of data that follows a log-normal distribution and find its geometric mean. I could do this by first taking the arithmetic mean and showing just how ludicrous this measure of location is. Then I could plot the distribution of the data, then take the log of the values and plot the distribution again to show that they are, in fact, log-normal. Then take the geometric mean and demonstrate how much better it is as a measure of central tendency."
   ]
  }
 ],
 "metadata": {
  "kernelspec": {
   "display_name": "Python 3",
   "language": "python",
   "name": "python3"
  },
  "language_info": {
   "codemirror_mode": {
    "name": "ipython",
    "version": 3
   },
   "file_extension": ".py",
   "mimetype": "text/x-python",
   "name": "python",
   "nbconvert_exporter": "python",
   "pygments_lexer": "ipython3",
   "version": "3.6.5"
  }
 },
 "nbformat": 4,
 "nbformat_minor": 2
}
